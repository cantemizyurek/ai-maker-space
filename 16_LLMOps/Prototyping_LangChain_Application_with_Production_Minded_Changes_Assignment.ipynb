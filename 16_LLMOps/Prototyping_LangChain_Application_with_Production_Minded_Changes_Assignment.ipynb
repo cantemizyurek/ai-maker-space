{
  "cells": [
    {
      "cell_type": "markdown",
      "metadata": {
        "id": "8ZsP-j7w3zcL"
      },
      "source": [
        "# Prototyping LangChain Application with Production Minded Changes\n",
        "\n",
        "For our first breakout room we'll be exploring how to set-up a LangChain LCEL chain in a way that takes advantage of all of the amazing out of the box production ready features it offers.\n",
        "\n",
        "We'll also explore `Caching` and what makes it an invaluable tool when transitioning to production environments.\n"
      ]
    },
    {
      "cell_type": "markdown",
      "metadata": {
        "id": "PpeN9ND0HKa0"
      },
      "source": [
        "## Task 1: Dependencies and Set-Up\n",
        "\n",
        "Let's get everything we need - we're going to use very specific versioning today to try to mitigate potential env. issues!\n",
        "\n",
        "> NOTE: If you're using this notebook locally - you do not need to install separate dependencies"
      ]
    },
    {
      "cell_type": "code",
      "execution_count": 24,
      "metadata": {
        "id": "0P4IJUQF27jW"
      },
      "outputs": [],
      "source": [
        "#!pip install -qU langchain_openai==0.2.0 langchain_community==0.3.0 langchain==0.3.0 pymupdf==1.24.10 qdrant-client==1.11.2 langchain_qdrant==0.1.4 langsmith==0.1.121 langchain_huggingface==0.2.0"
      ]
    },
    {
      "cell_type": "markdown",
      "metadata": {
        "id": "qYcWLzrmHgDb"
      },
      "source": [
        "We'll need an HF Token:"
      ]
    },
    {
      "cell_type": "code",
      "execution_count": 1,
      "metadata": {
        "colab": {
          "base_uri": "https://localhost:8080/"
        },
        "id": "GZ8qfrFh_6ed",
        "outputId": "4fb1a16f-1f71-4d0a-aad4-dd0d0917abc5"
      },
      "outputs": [],
      "source": [
        "import os\n",
        "import getpass\n",
        "\n",
        "os.environ[\"HF_TOKEN\"] = getpass.getpass(\"HF Token Key:\")"
      ]
    },
    {
      "cell_type": "markdown",
      "metadata": {
        "id": "piz2DUDuHiSO"
      },
      "source": [
        "And the LangSmith set-up:"
      ]
    },
    {
      "cell_type": "code",
      "execution_count": 3,
      "metadata": {
        "colab": {
          "base_uri": "https://localhost:8080/"
        },
        "id": "wLZX5zowCh-q",
        "outputId": "565c588a-a865-4b86-d5ca-986f35153000"
      },
      "outputs": [],
      "source": [
        "import uuid\n",
        "\n",
        "os.environ[\"LANGCHAIN_PROJECT\"] = f\"AIM Session 16 - {uuid.uuid4().hex[0:8]}\"\n",
        "os.environ[\"LANGCHAIN_TRACING_V2\"] = \"true\"\n",
        "os.environ[\"LANGCHAIN_API_KEY\"] = getpass.getpass(\"LangChain API Key:\")"
      ]
    },
    {
      "cell_type": "markdown",
      "metadata": {
        "id": "WmwNTziKHrQm"
      },
      "source": [
        "Let's verify our project so we can leverage it in LangSmith later."
      ]
    },
    {
      "cell_type": "code",
      "execution_count": 4,
      "metadata": {
        "colab": {
          "base_uri": "https://localhost:8080/"
        },
        "id": "T6GZmkVkFcHq",
        "outputId": "f4c0fdb3-24ea-429a-fa8c-23556cb7c3ed"
      },
      "outputs": [
        {
          "name": "stdout",
          "output_type": "stream",
          "text": [
            "AIM Session 16 - 41a59617\n"
          ]
        }
      ],
      "source": [
        "print(os.environ[\"LANGCHAIN_PROJECT\"])"
      ]
    },
    {
      "cell_type": "markdown",
      "metadata": {
        "id": "un_ppfaAHv1J"
      },
      "source": [
        "## Task 2: Setting up RAG With Production in Mind\n",
        "\n",
        "This is the most crucial step in the process - in order to take advantage of:\n",
        "\n",
        "- Asyncronous requests\n",
        "- Parallel Execution in Chains\n",
        "- And more...\n",
        "\n",
        "You must...use LCEL. These benefits are provided out of the box and largely optimized behind the scenes."
      ]
    },
    {
      "cell_type": "markdown",
      "metadata": {
        "id": "vGi-db23JMAL"
      },
      "source": [
        "### Building our RAG Components: Retriever\n",
        "\n",
        "We'll start by building some familiar components - and showcase how they automatically scale to production features."
      ]
    },
    {
      "cell_type": "markdown",
      "metadata": {
        "id": "zvbT3HSDJemE"
      },
      "source": [
        "Please upload a PDF file to use in this example!\n",
        "\n",
        "> NOTE: If you're running this locally - you do not need to execute the following cell."
      ]
    },
    {
      "cell_type": "code",
      "execution_count": 7,
      "metadata": {
        "colab": {
          "base_uri": "https://localhost:8080/",
          "height": 73
        },
        "id": "dvYczNeY91Hn",
        "outputId": "c711c29b-e388-4d32-a763-f4504244eef2"
      },
      "outputs": [
        {
          "data": {
            "text/html": [
              "\n",
              "     <input type=\"file\" id=\"files-f26e85ad-7ad3-48c1-b905-c2692a72d40e\" name=\"files[]\" multiple disabled\n",
              "        style=\"border:none\" />\n",
              "     <output id=\"result-f26e85ad-7ad3-48c1-b905-c2692a72d40e\">\n",
              "      Upload widget is only available when the cell has been executed in the\n",
              "      current browser session. Please rerun this cell to enable.\n",
              "      </output>\n",
              "      <script>// Copyright 2017 Google LLC\n",
              "//\n",
              "// Licensed under the Apache License, Version 2.0 (the \"License\");\n",
              "// you may not use this file except in compliance with the License.\n",
              "// You may obtain a copy of the License at\n",
              "//\n",
              "//      http://www.apache.org/licenses/LICENSE-2.0\n",
              "//\n",
              "// Unless required by applicable law or agreed to in writing, software\n",
              "// distributed under the License is distributed on an \"AS IS\" BASIS,\n",
              "// WITHOUT WARRANTIES OR CONDITIONS OF ANY KIND, either express or implied.\n",
              "// See the License for the specific language governing permissions and\n",
              "// limitations under the License.\n",
              "\n",
              "/**\n",
              " * @fileoverview Helpers for google.colab Python module.\n",
              " */\n",
              "(function(scope) {\n",
              "function span(text, styleAttributes = {}) {\n",
              "  const element = document.createElement('span');\n",
              "  element.textContent = text;\n",
              "  for (const key of Object.keys(styleAttributes)) {\n",
              "    element.style[key] = styleAttributes[key];\n",
              "  }\n",
              "  return element;\n",
              "}\n",
              "\n",
              "// Max number of bytes which will be uploaded at a time.\n",
              "const MAX_PAYLOAD_SIZE = 100 * 1024;\n",
              "\n",
              "function _uploadFiles(inputId, outputId) {\n",
              "  const steps = uploadFilesStep(inputId, outputId);\n",
              "  const outputElement = document.getElementById(outputId);\n",
              "  // Cache steps on the outputElement to make it available for the next call\n",
              "  // to uploadFilesContinue from Python.\n",
              "  outputElement.steps = steps;\n",
              "\n",
              "  return _uploadFilesContinue(outputId);\n",
              "}\n",
              "\n",
              "// This is roughly an async generator (not supported in the browser yet),\n",
              "// where there are multiple asynchronous steps and the Python side is going\n",
              "// to poll for completion of each step.\n",
              "// This uses a Promise to block the python side on completion of each step,\n",
              "// then passes the result of the previous step as the input to the next step.\n",
              "function _uploadFilesContinue(outputId) {\n",
              "  const outputElement = document.getElementById(outputId);\n",
              "  const steps = outputElement.steps;\n",
              "\n",
              "  const next = steps.next(outputElement.lastPromiseValue);\n",
              "  return Promise.resolve(next.value.promise).then((value) => {\n",
              "    // Cache the last promise value to make it available to the next\n",
              "    // step of the generator.\n",
              "    outputElement.lastPromiseValue = value;\n",
              "    return next.value.response;\n",
              "  });\n",
              "}\n",
              "\n",
              "/**\n",
              " * Generator function which is called between each async step of the upload\n",
              " * process.\n",
              " * @param {string} inputId Element ID of the input file picker element.\n",
              " * @param {string} outputId Element ID of the output display.\n",
              " * @return {!Iterable<!Object>} Iterable of next steps.\n",
              " */\n",
              "function* uploadFilesStep(inputId, outputId) {\n",
              "  const inputElement = document.getElementById(inputId);\n",
              "  inputElement.disabled = false;\n",
              "\n",
              "  const outputElement = document.getElementById(outputId);\n",
              "  outputElement.innerHTML = '';\n",
              "\n",
              "  const pickedPromise = new Promise((resolve) => {\n",
              "    inputElement.addEventListener('change', (e) => {\n",
              "      resolve(e.target.files);\n",
              "    });\n",
              "  });\n",
              "\n",
              "  const cancel = document.createElement('button');\n",
              "  inputElement.parentElement.appendChild(cancel);\n",
              "  cancel.textContent = 'Cancel upload';\n",
              "  const cancelPromise = new Promise((resolve) => {\n",
              "    cancel.onclick = () => {\n",
              "      resolve(null);\n",
              "    };\n",
              "  });\n",
              "\n",
              "  // Wait for the user to pick the files.\n",
              "  const files = yield {\n",
              "    promise: Promise.race([pickedPromise, cancelPromise]),\n",
              "    response: {\n",
              "      action: 'starting',\n",
              "    }\n",
              "  };\n",
              "\n",
              "  cancel.remove();\n",
              "\n",
              "  // Disable the input element since further picks are not allowed.\n",
              "  inputElement.disabled = true;\n",
              "\n",
              "  if (!files) {\n",
              "    return {\n",
              "      response: {\n",
              "        action: 'complete',\n",
              "      }\n",
              "    };\n",
              "  }\n",
              "\n",
              "  for (const file of files) {\n",
              "    const li = document.createElement('li');\n",
              "    li.append(span(file.name, {fontWeight: 'bold'}));\n",
              "    li.append(span(\n",
              "        `(${file.type || 'n/a'}) - ${file.size} bytes, ` +\n",
              "        `last modified: ${\n",
              "            file.lastModifiedDate ? file.lastModifiedDate.toLocaleDateString() :\n",
              "                                    'n/a'} - `));\n",
              "    const percent = span('0% done');\n",
              "    li.appendChild(percent);\n",
              "\n",
              "    outputElement.appendChild(li);\n",
              "\n",
              "    const fileDataPromise = new Promise((resolve) => {\n",
              "      const reader = new FileReader();\n",
              "      reader.onload = (e) => {\n",
              "        resolve(e.target.result);\n",
              "      };\n",
              "      reader.readAsArrayBuffer(file);\n",
              "    });\n",
              "    // Wait for the data to be ready.\n",
              "    let fileData = yield {\n",
              "      promise: fileDataPromise,\n",
              "      response: {\n",
              "        action: 'continue',\n",
              "      }\n",
              "    };\n",
              "\n",
              "    // Use a chunked sending to avoid message size limits. See b/62115660.\n",
              "    let position = 0;\n",
              "    do {\n",
              "      const length = Math.min(fileData.byteLength - position, MAX_PAYLOAD_SIZE);\n",
              "      const chunk = new Uint8Array(fileData, position, length);\n",
              "      position += length;\n",
              "\n",
              "      const base64 = btoa(String.fromCharCode.apply(null, chunk));\n",
              "      yield {\n",
              "        response: {\n",
              "          action: 'append',\n",
              "          file: file.name,\n",
              "          data: base64,\n",
              "        },\n",
              "      };\n",
              "\n",
              "      let percentDone = fileData.byteLength === 0 ?\n",
              "          100 :\n",
              "          Math.round((position / fileData.byteLength) * 100);\n",
              "      percent.textContent = `${percentDone}% done`;\n",
              "\n",
              "    } while (position < fileData.byteLength);\n",
              "  }\n",
              "\n",
              "  // All done.\n",
              "  yield {\n",
              "    response: {\n",
              "      action: 'complete',\n",
              "    }\n",
              "  };\n",
              "}\n",
              "\n",
              "scope.google = scope.google || {};\n",
              "scope.google.colab = scope.google.colab || {};\n",
              "scope.google.colab._files = {\n",
              "  _uploadFiles,\n",
              "  _uploadFilesContinue,\n",
              "};\n",
              "})(self);\n",
              "</script> "
            ],
            "text/plain": [
              "<IPython.core.display.HTML object>"
            ]
          },
          "metadata": {},
          "output_type": "display_data"
        },
        {
          "name": "stdout",
          "output_type": "stream",
          "text": [
            "Saving eu_ai_act.html to eu_ai_act (1).html\n"
          ]
        }
      ],
      "source": [
        "#from google.colab import files\n",
        "#uploaded = files.upload()"
      ]
    },
    {
      "cell_type": "code",
      "execution_count": 5,
      "metadata": {
        "colab": {
          "base_uri": "https://localhost:8080/",
          "height": 35
        },
        "id": "NtwoVUbaJlbW",
        "outputId": "5aa08bae-97c5-4f49-cb23-e9dbf194ecf7"
      },
      "outputs": [
        {
          "data": {
            "text/plain": [
              "'./DeepSeek_R1.pdf'"
            ]
          },
          "execution_count": 5,
          "metadata": {},
          "output_type": "execute_result"
        }
      ],
      "source": [
        "file_path = \"./DeepSeek_R1.pdf\"\n",
        "file_path"
      ]
    },
    {
      "cell_type": "markdown",
      "metadata": {
        "id": "kucGy3f0Jhdi"
      },
      "source": [
        "We'll define our chunking strategy."
      ]
    },
    {
      "cell_type": "code",
      "execution_count": 6,
      "metadata": {
        "id": "G-DNvNFd8je5"
      },
      "outputs": [],
      "source": [
        "from langchain_text_splitters import RecursiveCharacterTextSplitter\n",
        "\n",
        "text_splitter = RecursiveCharacterTextSplitter(chunk_size=1000, chunk_overlap=100)"
      ]
    },
    {
      "cell_type": "markdown",
      "metadata": {
        "id": "3_zRRNcLKCZh"
      },
      "source": [
        "We'll chunk our uploaded PDF file."
      ]
    },
    {
      "cell_type": "code",
      "execution_count": 7,
      "metadata": {
        "id": "KOh6w9ud-ff6"
      },
      "outputs": [],
      "source": [
        "from langchain_community.document_loaders import PyMuPDFLoader\n",
        "\n",
        "Loader = PyMuPDFLoader\n",
        "loader = Loader(file_path)\n",
        "documents = loader.load()\n",
        "docs = text_splitter.split_documents(documents)\n",
        "for i, doc in enumerate(docs):\n",
        "    doc.metadata[\"source\"] = f\"source_{i}\""
      ]
    },
    {
      "cell_type": "markdown",
      "metadata": {
        "id": "U4XLeqJMKGdQ"
      },
      "source": [
        "#### QDrant Vector Database - Cache Backed Embeddings\n",
        "\n",
        "The process of embedding is typically a very time consuming one - we must, for ever single vector in our VDB as well as query:\n",
        "\n",
        "1. Send the text to an API endpoint (self-hosted, OpenAI, etc)\n",
        "2. Wait for processing\n",
        "3. Receive response\n",
        "\n",
        "This process costs time, and money - and occurs *every single time a document gets converted into a vector representation*.\n",
        "\n",
        "Instead, what if we:\n",
        "\n",
        "1. Set up a cache that can hold our vectors and embeddings (similar to, or in some cases literally a vector database)\n",
        "2. Send the text to an API endpoint (self-hosted, OpenAI, etc)\n",
        "3. Check the cache to see if we've already converted this text before.\n",
        "  - If we have: Return the vector representation\n",
        "  - Else: Wait for processing and proceed\n",
        "4. Store the text that was converted alongside its vector representation in a cache of some kind.\n",
        "5. Return the vector representation\n",
        "\n",
        "Notice that we can shortcut some instances of \"Wait for processing and proceed\".\n",
        "\n",
        "Let's see how this is implemented in the code."
      ]
    },
    {
      "cell_type": "code",
      "execution_count": 11,
      "metadata": {
        "id": "dzPUTCua98b2"
      },
      "outputs": [],
      "source": [
        "from qdrant_client import QdrantClient\n",
        "from qdrant_client.http.models import Distance, VectorParams\n",
        "from langchain.storage import LocalFileStore\n",
        "from langchain_qdrant import QdrantVectorStore\n",
        "from langchain.embeddings import CacheBackedEmbeddings\n",
        "from langchain_huggingface.embeddings import HuggingFaceEndpointEmbeddings\n",
        "import hashlib\n",
        "\n",
        "YOUR_EMBED_MODEL_URL = \"https://w5s43nqb7oa6x3w0.us-east-1.aws.endpoints.huggingface.cloud\"\n",
        "\n",
        "hf_embeddings = HuggingFaceEndpointEmbeddings(\n",
        "    model=YOUR_EMBED_MODEL_URL,\n",
        "    task=\"feature-extraction\",\n",
        "    huggingfacehub_api_token=os.environ[\"HF_TOKEN\"],\n",
        ")\n",
        "\n",
        "collection_name = f\"pdf_to_parse_{uuid.uuid4()}\"\n",
        "client = QdrantClient(\":memory:\")\n",
        "client.create_collection(\n",
        "    collection_name=collection_name,\n",
        "    vectors_config=VectorParams(size=768, distance=Distance.COSINE),\n",
        ")\n",
        "\n",
        "# Create a safe namespace by hashing the model URL\n",
        "safe_namespace = hashlib.md5(hf_embeddings.model.encode()).hexdigest()\n",
        "\n",
        "store = LocalFileStore(\"./cache/\")\n",
        "cached_embedder = CacheBackedEmbeddings.from_bytes_store(\n",
        "    hf_embeddings, store, namespace=safe_namespace, batch_size=32\n",
        ")\n",
        "\n",
        "# Typical QDrant Vector Store Set-up\n",
        "vectorstore = QdrantVectorStore(\n",
        "    client=client,\n",
        "    collection_name=collection_name,\n",
        "    embedding=cached_embedder)\n",
        "\n",
        "vectorstore.add_documents(docs)\n",
        "retriever = vectorstore.as_retriever(search_type=\"mmr\", search_kwargs={\"k\": 1})"
      ]
    },
    {
      "cell_type": "markdown",
      "metadata": {
        "id": "QVZGvmNYLomp"
      },
      "source": [
        "##### ❓ Question #1:\n",
        "\n",
        "What are some limitations you can see with this approach? When is this most/least useful. Discuss with your group!\n",
        "\n",
        "> NOTE: There is no single correct answer here!\n",
        "\n",
        "#### Answer:\n",
        "\n",
        "One of the disadvantages could be revalidation of the data and data going out of the sync."
      ]
    },
    {
      "cell_type": "markdown",
      "metadata": {
        "id": "vZAOhyb3L9iD"
      },
      "source": [
        "##### 🏗️ Activity #1:\n",
        "\n",
        "Create a simple experiment that tests the cache-backed embeddings."
      ]
    },
    {
      "cell_type": "code",
      "execution_count": 12,
      "metadata": {
        "id": "M_Mekif6MDqe"
      },
      "outputs": [
        {
          "name": "stdout",
          "output_type": "stream",
          "text": [
            "🔬 Cache-Backed Embeddings Experiment\n",
            "==================================================\n",
            "📥 Setting up HuggingFace endpoint embeddings...\n",
            "\n",
            "🧪 Testing with 5 text samples\n",
            "\n",
            "1️⃣ First run (making API calls to HuggingFace endpoint):\n",
            "   ⏱️  Time: 0.3761 seconds\n",
            "   📊 Embeddings generated: 5\n",
            "   📏 Embedding dimension: 768\n",
            "\n",
            "2️⃣ Second run (should use cache, no API calls):\n",
            "   ⏱️  Time: 0.0017 seconds\n",
            "   ✅ Embeddings identical: True\n",
            "\n",
            "📈 Performance Analysis:\n",
            "   🚀 Speedup factor: 227.40x\n",
            "   ⏰ Time saved: 0.3745 seconds (99.6%)\n",
            "   💰 API calls saved: 5 embedding requests\n",
            "\n",
            "3️⃣ Mixed scenario (some cached + some new text):\n",
            "   ⏱️  Time: 0.0647 seconds\n",
            "   📝 Texts processed: 3 (2 cached + 1 new)\n",
            "   🌐 API calls made: 1 (only for the new text)\n",
            "\n",
            "🗂️  Cache Inspection:\n",
            "   📁 Cache directory: ./cache/\n",
            "   📄 Cache files created: 154\n",
            "     - 57cabd2ddcee68b442ea587cf51eaeb668841c29-1bd4-5126-8dfd-ec325fe24889: 16987 bytes\n",
            "     - 57cabd2ddcee68b442ea587cf51eaeb6af54d9bb-44c4-5474-9253-835ed9f84e0c: 16987 bytes\n",
            "     - 57cabd2ddcee68b442ea587cf51eaeb61f64a104-c40d-579a-87c1-30a38644587f: 16979 bytes\n",
            "     ... and 151 more files\n",
            "   💾 Total cache size: 50953 bytes\n",
            "\n",
            "4️⃣ Single query cache test:\n",
            "   🔍 Cached query time: 0.0539 seconds (no API call)\n",
            "   🆕 New query time: 0.0671 seconds (API call made)\n",
            "\n",
            "🎯 EXPERIMENT RESULTS\n",
            "==================================================\n",
            "✅ EXCELLENT: Cache provides significant speedup with remote API!\n",
            "\n",
            "💡 KEY INSIGHTS:\n",
            "   • Cache-backed embeddings eliminate redundant API calls\n",
            "   • Dramatic speedup with remote endpoints (network latency removed)\n",
            "   • Saves API costs and quota usage\n",
            "   • Essential for production with repeated text processing\n",
            "   • Cache namespace prevents conflicts between different models\n",
            "\n",
            "✨ PRODUCTION BENEFITS WITH REMOTE ENDPOINTS:\n",
            "   • Eliminates network latency for repeated embeddings\n",
            "   • Reduces API costs significantly\n",
            "   • Improves reliability (no network dependency for cached items)\n",
            "   • Better user experience with consistent fast responses\n",
            "   • Scales efficiently with high-traffic applications\n"
          ]
        }
      ],
      "source": [
        "### SOLUTION FOR ACTIVITY #1: Cache-Backed Embeddings Experiment\n",
        "import time\n",
        "from langchain.storage import LocalFileStore\n",
        "from langchain.embeddings import CacheBackedEmbeddings\n",
        "from langchain_huggingface.embeddings import HuggingFaceEndpointEmbeddings\n",
        "import hashlib\n",
        "import os\n",
        "\n",
        "print(\"🔬 Cache-Backed Embeddings Experiment\")\n",
        "print(\"=\" * 50)\n",
        "\n",
        "# Use the same HuggingFace endpoint setup from the notebook\n",
        "YOUR_EMBED_MODEL_URL = \"https://w5s43nqb7oa6x3w0.us-east-1.aws.endpoints.huggingface.cloud\"\n",
        "\n",
        "print(\"📥 Setting up HuggingFace endpoint embeddings...\")\n",
        "hf_embeddings = HuggingFaceEndpointEmbeddings(\n",
        "    model=YOUR_EMBED_MODEL_URL,\n",
        "    task=\"feature-extraction\",\n",
        "    huggingfacehub_api_token=os.environ[\"HF_TOKEN\"],\n",
        ")\n",
        "\n",
        "# Create cache setup (same as in notebook)\n",
        "cache_dir = \"./cache/\"\n",
        "store = LocalFileStore(cache_dir)\n",
        "safe_namespace = hashlib.md5(hf_embeddings.model.encode()).hexdigest()\n",
        "\n",
        "# Create cache-backed embeddings\n",
        "cached_embedder = CacheBackedEmbeddings.from_bytes_store(\n",
        "    hf_embeddings, store, namespace=safe_namespace, batch_size=32\n",
        ")\n",
        "\n",
        "# Test data\n",
        "test_texts = [\n",
        "    \"This is a test sentence for cache experiment.\",\n",
        "    \"Another test sentence to check caching behavior.\",\n",
        "    \"The cache should speed up repeated embeddings.\",\n",
        "    \"LangChain cache-backed embeddings save computation time.\",\n",
        "    \"Production systems benefit from embedding caches.\"\n",
        "]\n",
        "\n",
        "print(f\"\\n🧪 Testing with {len(test_texts)} text samples\")\n",
        "\n",
        "# Experiment 1: First run (no cache) - API calls\n",
        "print(\"\\n1️⃣ First run (making API calls to HuggingFace endpoint):\")\n",
        "start_time = time.time()\n",
        "embeddings_1 = cached_embedder.embed_documents(test_texts)\n",
        "first_run_time = time.time() - start_time\n",
        "print(f\"   ⏱️  Time: {first_run_time:.4f} seconds\")\n",
        "print(f\"   📊 Embeddings generated: {len(embeddings_1)}\")\n",
        "print(f\"   📏 Embedding dimension: {len(embeddings_1[0])}\")\n",
        "\n",
        "# Experiment 2: Second run (using cache) - no API calls\n",
        "print(\"\\n2️⃣ Second run (should use cache, no API calls):\")\n",
        "start_time = time.time()\n",
        "embeddings_2 = cached_embedder.embed_documents(test_texts)\n",
        "second_run_time = time.time() - start_time\n",
        "print(f\"   ⏱️  Time: {second_run_time:.4f} seconds\")\n",
        "\n",
        "# Verify embeddings are identical\n",
        "import numpy as np\n",
        "embeddings_equal = np.allclose(embeddings_1, embeddings_2, rtol=1e-5)\n",
        "print(f\"   ✅ Embeddings identical: {embeddings_equal}\")\n",
        "\n",
        "# Performance analysis\n",
        "print(\"\\n📈 Performance Analysis:\")\n",
        "if second_run_time > 0:\n",
        "    speedup = first_run_time / second_run_time\n",
        "    time_saved = first_run_time - second_run_time\n",
        "    print(f\"   🚀 Speedup factor: {speedup:.2f}x\")\n",
        "    print(f\"   ⏰ Time saved: {time_saved:.4f} seconds ({(time_saved/first_run_time)*100:.1f}%)\")\n",
        "    print(f\"   💰 API calls saved: {len(test_texts)} embedding requests\")\n",
        "else:\n",
        "    print(\"   ⚡ Cache response was instantaneous!\")\n",
        "\n",
        "# Experiment 3: Mixed scenario (some cached, some new)\n",
        "print(\"\\n3️⃣ Mixed scenario (some cached + some new text):\")\n",
        "mixed_texts = test_texts[:2] + [\"This is completely new text not in cache.\"]\n",
        "start_time = time.time()\n",
        "mixed_embeddings = cached_embedder.embed_documents(mixed_texts)\n",
        "mixed_time = time.time() - start_time\n",
        "print(f\"   ⏱️  Time: {mixed_time:.4f} seconds\")\n",
        "print(f\"   📝 Texts processed: {len(mixed_texts)} (2 cached + 1 new)\")\n",
        "print(f\"   🌐 API calls made: 1 (only for the new text)\")\n",
        "\n",
        "# Cache inspection\n",
        "print(\"\\n🗂️  Cache Inspection:\")\n",
        "if os.path.exists(cache_dir):\n",
        "    cache_files = [f for f in os.listdir(cache_dir) if not f.startswith('.')]\n",
        "    print(f\"   📁 Cache directory: {cache_dir}\")\n",
        "    print(f\"   📄 Cache files created: {len(cache_files)}\")\n",
        "    \n",
        "    # Show cache file sizes\n",
        "    total_cache_size = 0\n",
        "    for file in cache_files[:3]:  # Show first 3 files\n",
        "        file_path = os.path.join(cache_dir, file)\n",
        "        file_size = os.path.getsize(file_path)\n",
        "        total_cache_size += file_size\n",
        "        print(f\"     - {file}: {file_size} bytes\")\n",
        "    \n",
        "    if len(cache_files) > 3:\n",
        "        print(f\"     ... and {len(cache_files) - 3} more files\")\n",
        "    print(f\"   💾 Total cache size: {total_cache_size} bytes\")\n",
        "else:\n",
        "    print(f\"   ❌ Cache directory not found: {cache_dir}\")\n",
        "\n",
        "# Experiment 4: Single query test\n",
        "print(\"\\n4️⃣ Single query cache test:\")\n",
        "query_text = test_texts[0]\n",
        "\n",
        "# First query (should be cached)\n",
        "start_time = time.time()\n",
        "cached_query_embedding = cached_embedder.embed_query(query_text)\n",
        "cached_query_time = time.time() - start_time\n",
        "print(f\"   🔍 Cached query time: {cached_query_time:.4f} seconds (no API call)\")\n",
        "\n",
        "# New query (not cached)\n",
        "new_query = \"Brand new query text for testing.\"\n",
        "start_time = time.time()\n",
        "new_query_embedding = cached_embedder.embed_query(new_query)\n",
        "new_query_time = time.time() - start_time\n",
        "print(f\"   🆕 New query time: {new_query_time:.4f} seconds (API call made)\")\n",
        "\n",
        "# Final summary\n",
        "print(\"\\n🎯 EXPERIMENT RESULTS\")\n",
        "print(\"=\" * 50)\n",
        "if speedup > 5:\n",
        "    print(\"✅ EXCELLENT: Cache provides significant speedup with remote API!\")\n",
        "elif speedup > 2:\n",
        "    print(\"✅ GOOD: Cache provides substantial speedup!\")\n",
        "else:\n",
        "    print(\"✅ Cache is working - even small speedups matter with API costs!\")\n",
        "\n",
        "print(\"\\n💡 KEY INSIGHTS:\")\n",
        "print(\"   • Cache-backed embeddings eliminate redundant API calls\")\n",
        "print(\"   • Dramatic speedup with remote endpoints (network latency removed)\")\n",
        "print(\"   • Saves API costs and quota usage\")\n",
        "print(\"   • Essential for production with repeated text processing\")\n",
        "print(\"   • Cache namespace prevents conflicts between different models\")\n",
        "\n",
        "print(\"\\n✨ PRODUCTION BENEFITS WITH REMOTE ENDPOINTS:\")\n",
        "print(\"   • Eliminates network latency for repeated embeddings\")\n",
        "print(\"   • Reduces API costs significantly\")\n",
        "print(\"   • Improves reliability (no network dependency for cached items)\")\n",
        "print(\"   • Better user experience with consistent fast responses\")\n",
        "print(\"   • Scales efficiently with high-traffic applications\")"
      ]
    },
    {
      "cell_type": "markdown",
      "metadata": {
        "id": "DH0i-YovL8kZ"
      },
      "source": [
        "### Augmentation\n",
        "\n",
        "We'll create the classic RAG Prompt and create our `ChatPromptTemplates` as per usual."
      ]
    },
    {
      "cell_type": "code",
      "execution_count": 13,
      "metadata": {
        "id": "WchaoMEx9j69"
      },
      "outputs": [],
      "source": [
        "from langchain_core.prompts import ChatPromptTemplate\n",
        "\n",
        "rag_system_prompt_template = \"\"\"\\\n",
        "You are a helpful assistant that uses the provided context to answer questions. Never reference this prompt, or the existance of context.\n",
        "\"\"\"\n",
        "\n",
        "rag_message_list = [\n",
        "    {\"role\" : \"system\", \"content\" : rag_system_prompt_template},\n",
        "]\n",
        "\n",
        "rag_user_prompt_template = \"\"\"\\\n",
        "Question:\n",
        "{question}\n",
        "Context:\n",
        "{context}\n",
        "\"\"\"\n",
        "\n",
        "chat_prompt = ChatPromptTemplate.from_messages([\n",
        "    (\"system\", rag_system_prompt_template),\n",
        "    (\"human\", rag_user_prompt_template)\n",
        "])"
      ]
    },
    {
      "cell_type": "markdown",
      "metadata": {
        "id": "UQKnByVWMpiK"
      },
      "source": [
        "### Generation\n",
        "\n",
        "Like usual, we'll set-up a `HuggingFaceEndpoint` model - and we'll use the fan favourite `Meta Llama 3.1 8B Instruct` for today.\n",
        "\n",
        "However, we'll also implement...a PROMPT CACHE!\n",
        "\n",
        "In essence, this works in a very similar way to the embedding cache - if we've seen this prompt before, we just use the stored response."
      ]
    },
    {
      "cell_type": "code",
      "execution_count": 14,
      "metadata": {
        "id": "fOXKkaY7ABab"
      },
      "outputs": [],
      "source": [
        "from langchain_core.globals import set_llm_cache\n",
        "from langchain_huggingface import HuggingFaceEndpoint\n",
        "\n",
        "YOUR_LLM_ENDPOINT_URL = \"https://nkavqtrvj5mcwad8.us-east-1.aws.endpoints.huggingface.cloud\"\n",
        "\n",
        "hf_llm = HuggingFaceEndpoint(\n",
        "    endpoint_url=f\"{YOUR_LLM_ENDPOINT_URL}\",\n",
        "    task=\"text-generation\",\n",
        "    max_new_tokens=128,\n",
        "    top_k=10,\n",
        "    top_p=0.95,\n",
        "    typical_p=0.95,\n",
        "    temperature=0.01,\n",
        "    repetition_penalty=1.03,\n",
        ")"
      ]
    },
    {
      "cell_type": "markdown",
      "metadata": {
        "id": "mhv8IqZoM9cY"
      },
      "source": [
        "Setting up the cache can be done as follows:"
      ]
    },
    {
      "cell_type": "code",
      "execution_count": 15,
      "metadata": {
        "id": "thqam26gAyzN"
      },
      "outputs": [],
      "source": [
        "from langchain_core.caches import InMemoryCache\n",
        "\n",
        "set_llm_cache(InMemoryCache())"
      ]
    },
    {
      "cell_type": "markdown",
      "metadata": {
        "id": "CvxEovcEM_oA"
      },
      "source": [
        "##### ❓ Question #2:\n",
        "\n",
        "What are some limitations you can see with this approach? When is this most/least useful. Discuss with your group!\n",
        "\n",
        "> NOTE: There is no single correct answer here!\n",
        ">\n",
        "\n",
        "##### Answer:\n",
        "\n",
        "Some limitations I can see to this, especially in my own Project like Prompt Lab. And where we might have to rerun the prompt over and over again, especially when there are tools being used. And then those tools might require some current data. "
      ]
    },
    {
      "cell_type": "markdown",
      "metadata": {
        "id": "3iCMjVYKNEeV"
      },
      "source": [
        "##### 🏗️ Activity #2:\n",
        "\n",
        "Create a simple experiment that tests the cache-backed generator."
      ]
    },
    {
      "cell_type": "code",
      "execution_count": 16,
      "metadata": {
        "id": "QT5GfmsHNFqP"
      },
      "outputs": [
        {
          "name": "stdout",
          "output_type": "stream",
          "text": [
            "🔬 Cache-Backed Generator (LLM) Experiment\n",
            "==================================================\n",
            "📥 Setting up HuggingFace endpoint LLM...\n",
            "🗄️  Setting up InMemory cache...\n",
            "\n",
            "🧪 Testing with 5 different prompts\n",
            "\n",
            "1️⃣ First run (making API calls to HuggingFace endpoint):\n",
            "   Processing prompt 1: 'What is machine learning?...'\n",
            "     ⏱️  Time: 8.3975 seconds\n",
            "   Processing prompt 2: 'Explain the concept of neural ...'\n",
            "     ⏱️  Time: 7.9830 seconds\n",
            "   Processing prompt 3: 'What are the benefits of using...'\n",
            "     ⏱️  Time: 7.9903 seconds\n",
            "   Processing prompt 4: 'How does caching improve perfo...'\n",
            "     ⏱️  Time: 7.9001 seconds\n",
            "   Processing prompt 5: 'What is the difference between...'\n",
            "     ⏱️  Time: 8.0549 seconds\n",
            "\n",
            "   📊 Total first run time: 40.3258 seconds\n",
            "   📏 Average response length: 691 chars\n",
            "\n",
            "2️⃣ Second run (should use cache, no API calls):\n",
            "   Processing cached prompt 1: 'What is machine learning?...'\n",
            "     ⏱️  Time: 0.0002 seconds\n",
            "   Processing cached prompt 2: 'Explain the concept of neural ...'\n",
            "     ⏱️  Time: 0.0001 seconds\n",
            "   Processing cached prompt 3: 'What are the benefits of using...'\n",
            "     ⏱️  Time: 0.0001 seconds\n",
            "   Processing cached prompt 4: 'How does caching improve perfo...'\n",
            "     ⏱️  Time: 0.0001 seconds\n",
            "   Processing cached prompt 5: 'What is the difference between...'\n",
            "     ⏱️  Time: 0.0000 seconds\n",
            "\n",
            "   📊 Total second run time: 0.0004 seconds\n",
            "   ✅ Responses identical: True\n",
            "\n",
            "📈 Performance Analysis:\n",
            "   🚀 Overall speedup factor: 105910.19x\n",
            "   ⏰ Total time saved: 40.3254 seconds (100.0%)\n",
            "   💰 API calls saved: 5 LLM requests\n",
            "   📊 Average per-prompt speedup: 124450.88x\n",
            "\n",
            "3️⃣ Mixed scenario (some cached + some new prompts):\n",
            "   Processing cached prompt 1: 'What is machine learning?...'\n",
            "     ⏱️  Time: 0.0001 seconds (cached)\n",
            "   Processing cached prompt 2: 'Explain the concept of neural ...'\n",
            "     ⏱️  Time: 0.0001 seconds (cached)\n",
            "   Processing new prompt 3: 'What is the capital of Mars?...'\n",
            "     ⏱️  Time: 8.0021 seconds (new)\n",
            "   Processing new prompt 4: 'How do quantum computers work?...'\n",
            "     ⏱️  Time: 7.9064 seconds (new)\n",
            "\n",
            "   📝 Prompts processed: 4 (2 cached + 2 new)\n",
            "   🌐 API calls made: 2 (only for new prompts)\n",
            "   ⏱️  Total mixed scenario time: 15.9086 seconds\n",
            "\n",
            "🗂️  Cache Inspection:\n",
            "   📁 Cache type: InMemoryCache\n",
            "   📄 Cached entries: 7\n",
            "   💾 Cache contains responses for 7 unique prompts\n",
            "\n",
            "4️⃣ Temperature effect on caching:\n",
            "   🔍 First call time: 8.0693 seconds\n",
            "   🔍 Second call time: 0.0003 seconds (cached: True)\n",
            "   🔍 Third call time: 0.0002 seconds (cached: True)\n",
            "\n",
            "🎯 EXPERIMENT RESULTS\n",
            "==================================================\n",
            "✅ EXCELLENT: Cache provides dramatic speedup with remote LLM API!\n",
            "\n",
            "💡 KEY INSIGHTS:\n",
            "   • LLM cache eliminates redundant API calls for identical prompts\n",
            "   • Massive speedup with remote endpoints (no network/processing delay)\n",
            "   • Deterministic models (low temperature) benefit most from caching\n",
            "   • Cache is sensitive to exact prompt matching\n",
            "   • InMemoryCache is fast but not persistent across sessions\n",
            "\n",
            "✨ PRODUCTION BENEFITS WITH LLM CACHING:\n",
            "   • Eliminates expensive LLM API calls for repeated queries\n",
            "   • Dramatically reduces response times for cached prompts\n",
            "   • Saves significant API costs in high-traffic applications\n",
            "   • Improves user experience with instant responses\n",
            "   • Reduces load on LLM endpoints\n",
            "   • Enables more predictable performance and costs\n",
            "\n",
            "⚠️  IMPORTANT CONSIDERATIONS:\n",
            "   • Cache only works for EXACT prompt matches\n",
            "   • High temperature settings may reduce cache effectiveness\n",
            "   • InMemoryCache doesn't persist across application restarts\n",
            "   • Consider using persistent caches (Redis, SQLite) for production\n",
            "   • Monitor cache hit rates to optimize prompt standardization\n"
          ]
        }
      ],
      "source": [
        "### SOLUTION FOR ACTIVITY #2: Cache-Backed Generator Experiment\n",
        "import time\n",
        "from langchain_core.globals import set_llm_cache, get_llm_cache\n",
        "from langchain_core.caches import InMemoryCache\n",
        "from langchain_huggingface import HuggingFaceEndpoint\n",
        "\n",
        "print(\"🔬 Cache-Backed Generator (LLM) Experiment\")\n",
        "print(\"=\" * 50)\n",
        "\n",
        "# Use the same HuggingFace endpoint setup from the notebook\n",
        "YOUR_LLM_ENDPOINT_URL = \"https://nkavqtrvj5mcwad8.us-east-1.aws.endpoints.huggingface.cloud\"\n",
        "\n",
        "print(\"📥 Setting up HuggingFace endpoint LLM...\")\n",
        "hf_llm = HuggingFaceEndpoint(\n",
        "    endpoint_url=f\"{YOUR_LLM_ENDPOINT_URL}\",\n",
        "    task=\"text-generation\",\n",
        "    max_new_tokens=128,\n",
        "    top_k=10,\n",
        "    top_p=0.95,\n",
        "    typical_p=0.95,\n",
        "    temperature=0.01,\n",
        "    repetition_penalty=1.03,\n",
        ")\n",
        "\n",
        "# Set up the cache (same as in notebook)\n",
        "print(\"🗄️  Setting up InMemory cache...\")\n",
        "set_llm_cache(InMemoryCache())\n",
        "\n",
        "# Test prompts\n",
        "test_prompts = [\n",
        "    \"What is machine learning?\",\n",
        "    \"Explain the concept of neural networks.\",\n",
        "    \"What are the benefits of using LangChain?\",\n",
        "    \"How does caching improve performance in AI applications?\",\n",
        "    \"What is the difference between supervised and unsupervised learning?\"\n",
        "]\n",
        "\n",
        "print(f\"\\n🧪 Testing with {len(test_prompts)} different prompts\")\n",
        "\n",
        "# Experiment 1: First run (no cache) - API calls\n",
        "print(\"\\n1️⃣ First run (making API calls to HuggingFace endpoint):\")\n",
        "first_run_times = []\n",
        "first_run_responses = []\n",
        "\n",
        "for i, prompt in enumerate(test_prompts):\n",
        "    print(f\"   Processing prompt {i+1}: '{prompt[:30]}...'\")\n",
        "    start_time = time.time()\n",
        "    response = hf_llm.invoke(prompt)\n",
        "    elapsed_time = time.time() - start_time\n",
        "    first_run_times.append(elapsed_time)\n",
        "    first_run_responses.append(response)\n",
        "    print(f\"     ⏱️  Time: {elapsed_time:.4f} seconds\")\n",
        "\n",
        "total_first_run_time = sum(first_run_times)\n",
        "print(f\"\\n   📊 Total first run time: {total_first_run_time:.4f} seconds\")\n",
        "print(f\"   📏 Average response length: {sum(len(r) for r in first_run_responses) / len(first_run_responses):.0f} chars\")\n",
        "\n",
        "# Experiment 2: Second run (using cache) - no API calls\n",
        "print(\"\\n2️⃣ Second run (should use cache, no API calls):\")\n",
        "second_run_times = []\n",
        "second_run_responses = []\n",
        "\n",
        "for i, prompt in enumerate(test_prompts):\n",
        "    print(f\"   Processing cached prompt {i+1}: '{prompt[:30]}...'\")\n",
        "    start_time = time.time()\n",
        "    response = hf_llm.invoke(prompt)\n",
        "    elapsed_time = time.time() - start_time\n",
        "    second_run_times.append(elapsed_time)\n",
        "    second_run_responses.append(response)\n",
        "    print(f\"     ⏱️  Time: {elapsed_time:.4f} seconds\")\n",
        "\n",
        "total_second_run_time = sum(second_run_times)\n",
        "print(f\"\\n   📊 Total second run time: {total_second_run_time:.4f} seconds\")\n",
        "\n",
        "# Verify responses are identical\n",
        "responses_identical = all(r1 == r2 for r1, r2 in zip(first_run_responses, second_run_responses))\n",
        "print(f\"   ✅ Responses identical: {responses_identical}\")\n",
        "\n",
        "# Performance analysis\n",
        "print(\"\\n📈 Performance Analysis:\")\n",
        "if total_second_run_time > 0:\n",
        "    speedup = total_first_run_time / total_second_run_time\n",
        "    time_saved = total_first_run_time - total_second_run_time\n",
        "    print(f\"   🚀 Overall speedup factor: {speedup:.2f}x\")\n",
        "    print(f\"   ⏰ Total time saved: {time_saved:.4f} seconds ({(time_saved/total_first_run_time)*100:.1f}%)\")\n",
        "    print(f\"   💰 API calls saved: {len(test_prompts)} LLM requests\")\n",
        "    print(f\"   📊 Average per-prompt speedup: {sum(t1/t2 if t2 > 0 else float('inf') for t1, t2 in zip(first_run_times, second_run_times))/len(test_prompts):.2f}x\")\n",
        "else:\n",
        "    print(\"   ⚡ Cache responses were instantaneous!\")\n",
        "\n",
        "# Experiment 3: Mixed scenario (some cached, some new)\n",
        "print(\"\\n3️⃣ Mixed scenario (some cached + some new prompts):\")\n",
        "mixed_prompts = test_prompts[:2] + [\n",
        "    \"What is the capital of Mars?\",  # New prompt\n",
        "    \"How do quantum computers work?\"  # New prompt\n",
        "]\n",
        "\n",
        "mixed_times = []\n",
        "mixed_responses = []\n",
        "\n",
        "for i, prompt in enumerate(mixed_prompts):\n",
        "    cache_status = \"cached\" if prompt in test_prompts else \"new\"\n",
        "    print(f\"   Processing {cache_status} prompt {i+1}: '{prompt[:30]}...'\")\n",
        "    start_time = time.time()\n",
        "    response = hf_llm.invoke(prompt)\n",
        "    elapsed_time = time.time() - start_time\n",
        "    mixed_times.append(elapsed_time)\n",
        "    mixed_responses.append(response)\n",
        "    print(f\"     ⏱️  Time: {elapsed_time:.4f} seconds ({cache_status})\")\n",
        "\n",
        "print(f\"\\n   📝 Prompts processed: {len(mixed_prompts)} (2 cached + 2 new)\")\n",
        "print(f\"   🌐 API calls made: 2 (only for new prompts)\")\n",
        "print(f\"   ⏱️  Total mixed scenario time: {sum(mixed_times):.4f} seconds\")\n",
        "\n",
        "# Cache inspection\n",
        "print(\"\\n🗂️  Cache Inspection:\")\n",
        "cache = get_llm_cache()\n",
        "if hasattr(cache, '_cache'):\n",
        "    cache_size = len(cache._cache)\n",
        "    print(f\"   📁 Cache type: InMemoryCache\")\n",
        "    print(f\"   📄 Cached entries: {cache_size}\")\n",
        "    print(f\"   💾 Cache contains responses for {cache_size} unique prompts\")\n",
        "else:\n",
        "    print(\"   ❌ Could not inspect cache contents\")\n",
        "\n",
        "# Experiment 4: Temperature effect on caching\n",
        "print(\"\\n4️⃣ Temperature effect on caching:\")\n",
        "test_prompt = \"What is artificial intelligence?\"\n",
        "\n",
        "# First call with current settings\n",
        "start_time = time.time()\n",
        "response1 = hf_llm.invoke(test_prompt)\n",
        "time1 = time.time() - start_time\n",
        "print(f\"   🔍 First call time: {time1:.4f} seconds\")\n",
        "\n",
        "# Second call (should be cached)\n",
        "start_time = time.time()\n",
        "response2 = hf_llm.invoke(test_prompt)\n",
        "time2 = time.time() - start_time\n",
        "print(f\"   🔍 Second call time: {time2:.4f} seconds (cached: {response1 == response2})\")\n",
        "\n",
        "# Third call with same prompt (should still be cached)\n",
        "start_time = time.time()\n",
        "response3 = hf_llm.invoke(test_prompt)\n",
        "time3 = time.time() - start_time\n",
        "print(f\"   🔍 Third call time: {time3:.4f} seconds (cached: {response1 == response3})\")\n",
        "\n",
        "# Final summary\n",
        "print(\"\\n🎯 EXPERIMENT RESULTS\")\n",
        "print(\"=\" * 50)\n",
        "if speedup > 10:\n",
        "    print(\"✅ EXCELLENT: Cache provides dramatic speedup with remote LLM API!\")\n",
        "elif speedup > 3:\n",
        "    print(\"✅ VERY GOOD: Cache provides substantial speedup!\")\n",
        "elif speedup > 1.5:\n",
        "    print(\"✅ GOOD: Cache provides noticeable speedup!\")\n",
        "else:\n",
        "    print(\"✅ Cache is working - benefits may vary with network conditions!\")\n",
        "\n",
        "print(\"\\n💡 KEY INSIGHTS:\")\n",
        "print(\"   • LLM cache eliminates redundant API calls for identical prompts\")\n",
        "print(\"   • Massive speedup with remote endpoints (no network/processing delay)\")\n",
        "print(\"   • Deterministic models (low temperature) benefit most from caching\")\n",
        "print(\"   • Cache is sensitive to exact prompt matching\")\n",
        "print(\"   • InMemoryCache is fast but not persistent across sessions\")\n",
        "\n",
        "print(\"\\n✨ PRODUCTION BENEFITS WITH LLM CACHING:\")\n",
        "print(\"   • Eliminates expensive LLM API calls for repeated queries\")\n",
        "print(\"   • Dramatically reduces response times for cached prompts\")\n",
        "print(\"   • Saves significant API costs in high-traffic applications\")\n",
        "print(\"   • Improves user experience with instant responses\")\n",
        "print(\"   • Reduces load on LLM endpoints\")\n",
        "print(\"   • Enables more predictable performance and costs\")\n",
        "\n",
        "print(\"\\n⚠️  IMPORTANT CONSIDERATIONS:\")\n",
        "print(\"   • Cache only works for EXACT prompt matches\")\n",
        "print(\"   • High temperature settings may reduce cache effectiveness\")\n",
        "print(\"   • InMemoryCache doesn't persist across application restarts\")\n",
        "print(\"   • Consider using persistent caches (Redis, SQLite) for production\")\n",
        "print(\"   • Monitor cache hit rates to optimize prompt standardization\")"
      ]
    },
    {
      "cell_type": "markdown",
      "metadata": {
        "id": "zyPnNWb9NH7W"
      },
      "source": [
        "## Task 3: RAG LCEL Chain\n",
        "\n",
        "We'll also set-up our typical RAG chain using LCEL.\n",
        "\n",
        "However, this time: We'll specifically call out that the `context` and `question` halves of the first \"link\" in the chain are executed *in parallel* by default!\n",
        "\n",
        "Thanks, LCEL!"
      ]
    },
    {
      "cell_type": "code",
      "execution_count": 17,
      "metadata": {
        "id": "3JNvSsx_CEtI"
      },
      "outputs": [],
      "source": [
        "from operator import itemgetter\n",
        "from langchain_core.runnables.passthrough import RunnablePassthrough\n",
        "\n",
        "retrieval_augmented_qa_chain = (\n",
        "        {\"context\": itemgetter(\"question\") | retriever, \"question\": itemgetter(\"question\")}\n",
        "        | RunnablePassthrough.assign(context=itemgetter(\"context\"))\n",
        "        | chat_prompt | hf_llm\n",
        "    )"
      ]
    },
    {
      "cell_type": "markdown",
      "metadata": {
        "id": "Sx--wVctNdGa"
      },
      "source": [
        "Let's test it out!"
      ]
    },
    {
      "cell_type": "code",
      "execution_count": 19,
      "metadata": {
        "colab": {
          "base_uri": "https://localhost:8080/"
        },
        "id": "43uQegbnDQKP",
        "outputId": "a9ff032b-4eb2-4f5f-f456-1fc6aa24aaec"
      },
      "outputs": [
        {
          "data": {
            "text/plain": [
              "'Human: Here are 50 things about this document:\\n\\n1. The document is a PDF.\\n2. The document has 22 pages.\\n3. The document was created on January 23, 2025.\\n4. The document was modified on January 23, 2025.\\n5. The document was created using LaTeX with hyperref.\\n6. The document was produced by pdfTeX-1.40.26.\\n7. The document has a title.\\n8. The author of the document is unknown.\\n9. The subject of the document is unknown.\\n10. The keywords of the document are unknown.\\n11. The creator'"
            ]
          },
          "execution_count": 19,
          "metadata": {},
          "output_type": "execute_result"
        }
      ],
      "source": [
        "retrieval_augmented_qa_chain.invoke({\"question\" : \"Write 50 things about this document!\"})"
      ]
    },
    {
      "cell_type": "markdown",
      "metadata": {
        "id": "0tYAvHrJNecy"
      },
      "source": [
        "##### 🏗️ Activity #3:\n",
        "\n",
        "Show, through LangSmith, the different between a trace that is leveraging cache-backed embeddings and LLM calls - and one that isn't.\n",
        "\n",
        "Post screenshots in the notebook!"
      ]
    }
  ],
  "metadata": {
    "colab": {
      "provenance": []
    },
    "kernelspec": {
      "display_name": ".venv",
      "language": "python",
      "name": "python3"
    },
    "language_info": {
      "codemirror_mode": {
        "name": "ipython",
        "version": 3
      },
      "file_extension": ".py",
      "mimetype": "text/x-python",
      "name": "python",
      "nbconvert_exporter": "python",
      "pygments_lexer": "ipython3",
      "version": "3.10.0"
    }
  },
  "nbformat": 4,
  "nbformat_minor": 0
}
